{
 "cells": [
  {
   "cell_type": "markdown",
   "metadata": {},
   "source": [
    "# Problem"
   ]
  },
  {
   "cell_type": "markdown",
   "metadata": {},
   "source": [
    "You want a script you’ve written to be able to accept input using whatever mechanism is easiest for the user. This should include piping output from a command to the script, redirecting a file into the script, or just passing a filename, or list of filenames, to the script on the command line."
   ]
  },
  {
   "cell_type": "markdown",
   "metadata": {},
   "source": [
    "# Solution"
   ]
  },
  {
   "cell_type": "markdown",
   "metadata": {},
   "source": [
    "Python’s built-in fileinput module makes this very simple and concise. If you have a script that looks like this:"
   ]
  },
  {
   "cell_type": "code",
   "execution_count": null,
   "metadata": {
    "collapsed": true
   },
   "outputs": [],
   "source": [
    "#!/usr/bin/env python3\n",
    "import fileinput\n",
    "\n",
    "with fileinput.input() as f_input:\n",
    "    for line in f_input:\n",
    "        print(line, end='')"
   ]
  },
  {
   "cell_type": "markdown",
   "metadata": {},
   "source": [
    "Then you can already accept input to the script in all of the previously mentioned ways. If you save this script as filein.py and make it executable, you can do all of the following and get the expected output"
   ]
  },
  {
   "cell_type": "markdown",
   "metadata": {},
   "source": [
    "$ ls | ./filein.py          # Prints a directory listing to stdout.\n",
    "$ ./filein.py /etc/passwd   # Reads /etc/passwd to stdout.\n",
    "$ ./filein.py < /etc/passwd # Reads /etc/passwd to stdout."
   ]
  },
  {
   "cell_type": "markdown",
   "metadata": {},
   "source": [
    "# Discussion"
   ]
  },
  {
   "cell_type": "markdown",
   "metadata": {},
   "source": [
    "The fileinput.input() function creates and returns an instance of the FileInput class. In addition to containing a few handy helper methods, the instance can also be used as a context manager. So, to put all of this together, if we wrote a script that expected to be printing output from several files at once, we might have it include the filename and line number in the output, like this:"
   ]
  },
  {
   "cell_type": "code",
   "execution_count": 1,
   "metadata": {
    "collapsed": false
   },
   "outputs": [
    {
     "name": "stdout",
     "output_type": "stream",
     "text": [
      "/etc/passwd 1 ##\n",
      "/etc/passwd 2 # User Database\n",
      "/etc/passwd 3 # \n",
      "/etc/passwd 4 # Note that this file is consulted directly only when the system is running\n",
      "/etc/passwd 5 # in single-user mode.  At other times this information is provided by\n",
      "/etc/passwd 6 # Open Directory.\n",
      "/etc/passwd 7 #\n",
      "/etc/passwd 8 # See the opendirectoryd(8) man page for additional information about\n",
      "/etc/passwd 9 # Open Directory.\n",
      "/etc/passwd 10 ##\n",
      "/etc/passwd 11 nobody:*:-2:-2:Unprivileged User:/var/empty:/usr/bin/false\n",
      "/etc/passwd 12 root:*:0:0:System Administrator:/var/root:/bin/sh\n",
      "/etc/passwd 13 daemon:*:1:1:System Services:/var/root:/usr/bin/false\n",
      "/etc/passwd 14 _uucp:*:4:4:Unix to Unix Copy Protocol:/var/spool/uucp:/usr/sbin/uucico\n",
      "/etc/passwd 15 _taskgated:*:13:13:Task Gate Daemon:/var/empty:/usr/bin/false\n",
      "/etc/passwd 16 _networkd:*:24:24:Network Services:/var/networkd:/usr/bin/false\n",
      "/etc/passwd 17 _installassistant:*:25:25:Install Assistant:/var/empty:/usr/bin/false\n",
      "/etc/passwd 18 _lp:*:26:26:Printing Services:/var/spool/cups:/usr/bin/false\n",
      "/etc/passwd 19 _postfix:*:27:27:Postfix Mail Server:/var/spool/postfix:/usr/bin/false\n",
      "/etc/passwd 20 _scsd:*:31:31:Service Configuration Service:/var/empty:/usr/bin/false\n",
      "/etc/passwd 21 _ces:*:32:32:Certificate Enrollment Service:/var/empty:/usr/bin/false\n",
      "/etc/passwd 22 _mcxalr:*:54:54:MCX AppLaunch:/var/empty:/usr/bin/false\n",
      "/etc/passwd 23 _appleevents:*:55:55:AppleEvents Daemon:/var/empty:/usr/bin/false\n",
      "/etc/passwd 24 _geod:*:56:56:Geo Services Daemon:/var/db/geod:/usr/bin/false\n",
      "/etc/passwd 25 _serialnumberd:*:58:58:Serial Number Daemon:/var/empty:/usr/bin/false\n",
      "/etc/passwd 26 _devdocs:*:59:59:Developer Documentation:/var/empty:/usr/bin/false\n",
      "/etc/passwd 27 _sandbox:*:60:60:Seatbelt:/var/empty:/usr/bin/false\n",
      "/etc/passwd 28 _mdnsresponder:*:65:65:mDNSResponder:/var/empty:/usr/bin/false\n",
      "/etc/passwd 29 _ard:*:67:67:Apple Remote Desktop:/var/empty:/usr/bin/false\n",
      "/etc/passwd 30 _www:*:70:70:World Wide Web Server:/Library/WebServer:/usr/bin/false\n",
      "/etc/passwd 31 _eppc:*:71:71:Apple Events User:/var/empty:/usr/bin/false\n",
      "/etc/passwd 32 _cvs:*:72:72:CVS Server:/var/empty:/usr/bin/false\n",
      "/etc/passwd 33 _svn:*:73:73:SVN Server:/var/empty:/usr/bin/false\n",
      "/etc/passwd 34 _mysql:*:74:74:MySQL Server:/var/empty:/usr/bin/false\n",
      "/etc/passwd 35 _sshd:*:75:75:sshd Privilege separation:/var/empty:/usr/bin/false\n",
      "/etc/passwd 36 _qtss:*:76:76:QuickTime Streaming Server:/var/empty:/usr/bin/false\n",
      "/etc/passwd 37 _cyrus:*:77:6:Cyrus Administrator:/var/imap:/usr/bin/false\n",
      "/etc/passwd 38 _mailman:*:78:78:Mailman List Server:/var/empty:/usr/bin/false\n",
      "/etc/passwd 39 _appserver:*:79:79:Application Server:/var/empty:/usr/bin/false\n",
      "/etc/passwd 40 _clamav:*:82:82:ClamAV Daemon:/var/virusmails:/usr/bin/false\n",
      "/etc/passwd 41 _amavisd:*:83:83:AMaViS Daemon:/var/virusmails:/usr/bin/false\n",
      "/etc/passwd 42 _jabber:*:84:84:Jabber XMPP Server:/var/empty:/usr/bin/false\n",
      "/etc/passwd 43 _appowner:*:87:87:Application Owner:/var/empty:/usr/bin/false\n",
      "/etc/passwd 44 _windowserver:*:88:88:WindowServer:/var/empty:/usr/bin/false\n",
      "/etc/passwd 45 _spotlight:*:89:89:Spotlight:/var/empty:/usr/bin/false\n",
      "/etc/passwd 46 _tokend:*:91:91:Token Daemon:/var/empty:/usr/bin/false\n",
      "/etc/passwd 47 _securityagent:*:92:92:SecurityAgent:/var/db/securityagent:/usr/bin/false\n",
      "/etc/passwd 48 _calendar:*:93:93:Calendar:/var/empty:/usr/bin/false\n",
      "/etc/passwd 49 _teamsserver:*:94:94:TeamsServer:/var/teamsserver:/usr/bin/false\n",
      "/etc/passwd 50 _update_sharing:*:95:-2:Update Sharing:/var/empty:/usr/bin/false\n",
      "/etc/passwd 51 _installer:*:96:-2:Installer:/var/empty:/usr/bin/false\n",
      "/etc/passwd 52 _atsserver:*:97:97:ATS Server:/var/empty:/usr/bin/false\n",
      "/etc/passwd 53 _ftp:*:98:-2:FTP Daemon:/var/empty:/usr/bin/false\n",
      "/etc/passwd 54 _unknown:*:99:99:Unknown User:/var/empty:/usr/bin/false\n",
      "/etc/passwd 55 _softwareupdate:*:200:200:Software Update Service:/var/empty:/usr/bin/false\n",
      "/etc/passwd 56 _coreaudiod:*:202:202:Core Audio Daemon:/var/empty:/usr/bin/false\n",
      "/etc/passwd 57 _screensaver:*:203:203:Screensaver:/var/empty:/usr/bin/false\n",
      "/etc/passwd 58 _locationd:*:205:205:Location Daemon:/var/db/locationd:/usr/bin/false\n",
      "/etc/passwd 59 _trustevaluationagent:*:208:208:Trust Evaluation Agent:/var/empty:/usr/bin/false\n",
      "/etc/passwd 60 _timezone:*:210:210:AutoTimeZoneDaemon:/var/empty:/usr/bin/false\n",
      "/etc/passwd 61 _lda:*:211:211:Local Delivery Agent:/var/empty:/usr/bin/false\n",
      "/etc/passwd 62 _cvmsroot:*:212:212:CVMS Root:/var/empty:/usr/bin/false\n",
      "/etc/passwd 63 _usbmuxd:*:213:213:iPhone OS Device Helper:/var/db/lockdown:/usr/bin/false\n",
      "/etc/passwd 64 _dovecot:*:214:6:Dovecot Administrator:/var/empty:/usr/bin/false\n",
      "/etc/passwd 65 _dpaudio:*:215:215:DP Audio:/var/empty:/usr/bin/false\n",
      "/etc/passwd 66 _postgres:*:216:216:PostgreSQL Server:/var/empty:/usr/bin/false\n",
      "/etc/passwd 67 _krbtgt:*:217:-2:Kerberos Ticket Granting Ticket:/var/empty:/usr/bin/false\n",
      "/etc/passwd 68 _kadmin_admin:*:218:-2:Kerberos Admin Service:/var/empty:/usr/bin/false\n",
      "/etc/passwd 69 _kadmin_changepw:*:219:-2:Kerberos Change Password Service:/var/empty:/usr/bin/false\n",
      "/etc/passwd 70 _devicemgr:*:220:220:Device Management Server:/var/empty:/usr/bin/false\n",
      "/etc/passwd 71 _webauthserver:*:221:221:Web Auth Server:/var/empty:/usr/bin/false\n",
      "/etc/passwd 72 _netbios:*:222:222:NetBIOS:/var/empty:/usr/bin/false\n",
      "/etc/passwd 73 _warmd:*:224:224:Warm Daemon:/var/empty:/usr/bin/false\n",
      "/etc/passwd 74 _dovenull:*:227:227:Dovecot Authentication:/var/empty:/usr/bin/false\n",
      "/etc/passwd 75 _netstatistics:*:228:228:Network Statistics Daemon:/var/empty:/usr/bin/false\n",
      "/etc/passwd 76 _avbdeviced:*:229:-2:Ethernet AVB Device Daemon:/var/empty:/usr/bin/false\n",
      "/etc/passwd 77 _krb_krbtgt:*:230:-2:Open Directory Kerberos Ticket Granting Ticket:/var/empty:/usr/bin/false\n",
      "/etc/passwd 78 _krb_kadmin:*:231:-2:Open Directory Kerberos Admin Service:/var/empty:/usr/bin/false\n",
      "/etc/passwd 79 _krb_changepw:*:232:-2:Open Directory Kerberos Change Password Service:/var/empty:/usr/bin/false\n",
      "/etc/passwd 80 _krb_kerberos:*:233:-2:Open Directory Kerberos:/var/empty:/usr/bin/false\n",
      "/etc/passwd 81 _krb_anonymous:*:234:-2:Open Directory Kerberos Anonymous:/var/empty:/usr/bin/false\n",
      "/etc/passwd 82 _assetcache:*:235:235:Asset Cache Service:/var/empty:/usr/bin/false\n",
      "/etc/passwd 83 _coremediaiod:*:236:236:Core Media IO Daemon:/var/empty:/usr/bin/false\n",
      "/etc/passwd 84 _launchservicesd:*:239:239:_launchservicesd:/var/empty:/usr/bin/false\n",
      "/etc/passwd 85 _iconservices:*:240:240:IconServices:/var/empty:/usr/bin/false\n",
      "/etc/passwd 86 _distnote:*:241:241:DistNote:/var/empty:/usr/bin/false\n",
      "/etc/passwd 87 _nsurlsessiond:*:242:242:NSURLSession Daemon:/var/db/nsurlsessiond:/usr/bin/false\n",
      "/etc/passwd 88 _nsurlstoraged:*:243:243:NSURLStorage Daemon:/var/empty:/usr/bin/false\n",
      "/etc/passwd 89 _displaypolicyd:*:244:244:Display Policy Daemon:/var/empty:/usr/bin/false\n",
      "/etc/passwd 90 _astris:*:245:245:Astris Services:/var/db/astris:/usr/bin/false\n",
      "/etc/passwd 91 _krbfast:*:246:-2:Kerberos FAST Account:/var/empty:/usr/bin/false\n",
      "/etc/passwd 92 _gamecontrollerd:*:247:247:Game Controller Daemon:/var/empty:/usr/bin/false\n",
      "/etc/passwd 93 _mbsetupuser:*:248:248:Setup User:/var/setup:/bin/bash\n",
      "/etc/passwd 94 _ondemand:*:249:249:On Demand Resource Daemon:/var/db/ondemand:/usr/bin/false\n",
      "/etc/passwd 95 _xserverdocs:*:251:251:OS X Server Documents Service:/var/empty:/usr/bin/false\n",
      "/etc/passwd 96 _wwwproxy:*:252:252:WWW Proxy:/var/empty:/usr/bin/false\n"
     ]
    }
   ],
   "source": [
    "import fileinput\n",
    "with fileinput.input('/etc/passwd') as f:\n",
    "    for line in f:\n",
    "        print(f.filename(), f.lineno(), line, end='')"
   ]
  },
  {
   "cell_type": "markdown",
   "metadata": {},
   "source": [
    "Using it as a context manager ensures that the file is closed when it’s no longer being used, and we leveraged a few handy FileInput helper methods here to get some extra information in the output."
   ]
  }
 ],
 "metadata": {
  "kernelspec": {
   "display_name": "Python 3",
   "language": "python",
   "name": "python3"
  },
  "language_info": {
   "codemirror_mode": {
    "name": "ipython",
    "version": 3
   },
   "file_extension": ".py",
   "mimetype": "text/x-python",
   "name": "python",
   "nbconvert_exporter": "python",
   "pygments_lexer": "ipython3",
   "version": "3.5.1"
  }
 },
 "nbformat": 4,
 "nbformat_minor": 0
}
